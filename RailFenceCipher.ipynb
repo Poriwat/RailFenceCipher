{
  "nbformat": 4,
  "nbformat_minor": 0,
  "metadata": {
    "colab": {
      "provenance": []
    },
    "kernelspec": {
      "name": "python3",
      "display_name": "Python 3"
    },
    "language_info": {
      "name": "python"
    }
  },
  "cells": [
    {
      "cell_type": "markdown",
      "source": [
        "\n",
        "Encryption Algorithm"
      ],
      "metadata": {
        "id": "AfsMVgqykPJC"
      }
    },
    {
      "cell_type": "code",
      "execution_count": 149,
      "metadata": {
        "id": "5giuK1sUVEcS"
      },
      "outputs": [],
      "source": [
        "import os\n",
        "from google.colab import files\n",
        "import numpy as np"
      ]
    },
    {
      "cell_type": "code",
      "source": [
        "#INPUT PASS & KEY\n",
        "#KEY IS 2 OR 3\n",
        "password = input(\"PASSWORD : \")\n",
        "keyword = input(\"KEYWORD : \")\n",
        "password = password.upper()\n",
        "\n",
        "i = 0\n",
        "n = 0\n",
        "m = 1\n",
        "k = 2\n",
        "result = []\n",
        "\n",
        "if int(keyword) == 2:\n",
        "  i = 0\n",
        "  for i in range(len(password)):\n",
        "    if n < len(password):\n",
        "      result.append(password[n])\n",
        "      n+=2\n",
        "  for j in range(len(password)):\n",
        "    if m < len(password):\n",
        "      result.append(password[m])\n",
        "      m+=2\n",
        "if int(keyword) == 3 :\n",
        "  i = 0\n",
        "  for i in range(len(password)):\n",
        "    if n < len(password) :\n",
        "      result.append(password[n])\n",
        "      n+=3\n",
        "  for i in range(len(password)):\n",
        "    if m < len(password):\n",
        "      result.append(password[m])\n",
        "      m+=3\n",
        "  for i in range(len(password)):\n",
        "    if k < len(password):\n",
        "      result.append(password[k])\n",
        "      k+=3\n",
        "\n",
        "\n",
        "# convert list to string\n",
        "\n",
        "converted_list = map(str, result)\n",
        "ciphertext = ''.join(converted_list)\n",
        "print(ciphertext)\n",
        "\n",
        "# creat file txt\n",
        "\n",
        "f = open(\"ciphertext.txt\", \"w\")\n",
        "f.write(\"CIPHERTEXT : \" + ciphertext)\n",
        "f.close()\n",
        "\n"
      ],
      "metadata": {
        "colab": {
          "base_uri": "https://localhost:8080/"
        },
        "id": "espNtjw9VHoV",
        "outputId": "87e58aee-d1b5-442c-879e-7efc87d66409"
      },
      "execution_count": 207,
      "outputs": [
        {
          "output_type": "stream",
          "name": "stdout",
          "text": [
            "PASSWORD : poriwat\n",
            "KEYWORD : 3\n",
            "PITOWRA\n"
          ]
        }
      ]
    },
    {
      "cell_type": "markdown",
      "source": [
        "Dowload Ciphertext"
      ],
      "metadata": {
        "id": "42B4FD56jatm"
      }
    },
    {
      "cell_type": "code",
      "source": [
        "files.download('ciphertext.txt')"
      ],
      "metadata": {
        "id": "9Aflw4v0VcrW",
        "colab": {
          "base_uri": "https://localhost:8080/",
          "height": 17
        },
        "outputId": "374a913d-8d96-4218-87b0-3fc0eefb464f"
      },
      "execution_count": 82,
      "outputs": [
        {
          "output_type": "display_data",
          "data": {
            "text/plain": [
              "<IPython.core.display.Javascript object>"
            ],
            "application/javascript": [
              "\n",
              "    async function download(id, filename, size) {\n",
              "      if (!google.colab.kernel.accessAllowed) {\n",
              "        return;\n",
              "      }\n",
              "      const div = document.createElement('div');\n",
              "      const label = document.createElement('label');\n",
              "      label.textContent = `Downloading \"${filename}\": `;\n",
              "      div.appendChild(label);\n",
              "      const progress = document.createElement('progress');\n",
              "      progress.max = size;\n",
              "      div.appendChild(progress);\n",
              "      document.body.appendChild(div);\n",
              "\n",
              "      const buffers = [];\n",
              "      let downloaded = 0;\n",
              "\n",
              "      const channel = await google.colab.kernel.comms.open(id);\n",
              "      // Send a message to notify the kernel that we're ready.\n",
              "      channel.send({})\n",
              "\n",
              "      for await (const message of channel.messages) {\n",
              "        // Send a message to notify the kernel that we're ready.\n",
              "        channel.send({})\n",
              "        if (message.buffers) {\n",
              "          for (const buffer of message.buffers) {\n",
              "            buffers.push(buffer);\n",
              "            downloaded += buffer.byteLength;\n",
              "            progress.value = downloaded;\n",
              "          }\n",
              "        }\n",
              "      }\n",
              "      const blob = new Blob(buffers, {type: 'application/binary'});\n",
              "      const a = document.createElement('a');\n",
              "      a.href = window.URL.createObjectURL(blob);\n",
              "      a.download = filename;\n",
              "      div.appendChild(a);\n",
              "      a.click();\n",
              "      div.remove();\n",
              "    }\n",
              "  "
            ]
          },
          "metadata": {}
        },
        {
          "output_type": "display_data",
          "data": {
            "text/plain": [
              "<IPython.core.display.Javascript object>"
            ],
            "application/javascript": [
              "download(\"download_75681d3c-23fc-4878-9056-956b0bb11654\", \"ciphertext.txt\", 20)"
            ]
          },
          "metadata": {}
        }
      ]
    },
    {
      "cell_type": "markdown",
      "source": [
        "Decryption Algorithm"
      ],
      "metadata": {
        "id": "NvyiA5Aj5bYu"
      }
    },
    {
      "cell_type": "code",
      "source": [
        "ciphertext = input(\"CIPHERTEXT : \")\n",
        "keyword = input(\"KEYWORD : \")\n",
        "ciphertext = ciphertext.lower()\n",
        "\n",
        "\n",
        "i = 0\n",
        "n = 0\n",
        "m = 1\n",
        "k = 2\n",
        "l = 3\n",
        "result = []\n",
        "\n",
        "if int(keyword) == 2:\n",
        "  m = int(np.ceil(len(ciphertext)/2))\n",
        "  l = m-1\n",
        "  i = 0\n",
        "  for i in range(len(ciphertext)):\n",
        "    if n < len(ciphertext) and m < len(ciphertext):\n",
        "      result.append(ciphertext[n])\n",
        "      result.append(ciphertext[m])\n",
        "      n+=1\n",
        "      m+=1\n",
        "  for i in range(len(ciphertext)):\n",
        "    if l < len(ciphertext) and len(result) < len(ciphertext):\n",
        "      print(l)\n",
        "      result.append(ciphertext[l])\n",
        "      l*=2\n",
        "\n",
        "if int(keyword) == 3 :\n",
        "  m = int(np.ceil(len(ciphertext)/3))\n",
        "  k = m*2\n",
        "  l = m-1\n",
        "  i = 0\n",
        "\n",
        "  if len(ciphertext) % 3 == 1:\n",
        "    k = k-1\n",
        "    for i in range(len(ciphertext)):\n",
        "      if n < len(ciphertext) and m < len(ciphertext) and k < len(ciphertext):\n",
        "        result.append(ciphertext[n])\n",
        "        result.append(ciphertext[m])\n",
        "        result.append(ciphertext[k])\n",
        "        n+=1\n",
        "        m+=1\n",
        "        k+=1\n",
        "    for i in range(len(ciphertext)):\n",
        "      if l < len(ciphertext) and len(result) < len(ciphertext):\n",
        "        result.append(ciphertext[l])\n",
        "        l*=2\n",
        "        l+=1\n",
        "\n",
        "  else:\n",
        "\n",
        "    for i in range(len(ciphertext)):\n",
        "      if n < len(ciphertext) and m < len(ciphertext) and k < len(ciphertext):\n",
        "        result.append(ciphertext[n])\n",
        "        result.append(ciphertext[m])\n",
        "        result.append(ciphertext[k])\n",
        "        n+=1\n",
        "        m+=1\n",
        "        k+=1\n",
        "    for i in range(len(ciphertext)):\n",
        "      if l < len(ciphertext) and len(result) < len(ciphertext):\n",
        "        result.append(ciphertext[l])\n",
        "        l*=2\n",
        "        l+=1\n",
        "\n",
        "# convert list to string\n",
        "\n",
        "converted_list = map(str, result)\n",
        "plaintext = ''.join(converted_list)\n",
        "print(plaintext)\n",
        "\n",
        "# create file txt\n",
        "\n",
        "f = open(\"plaintext.txt\", \"w\")\n",
        "f.write(\"plaintext : \" + plaintext)\n",
        "f.close()"
      ],
      "metadata": {
        "colab": {
          "base_uri": "https://localhost:8080/"
        },
        "id": "545Evmdt5XQN",
        "outputId": "1c36ae86-3805-41e9-98a7-8a577d698641"
      },
      "execution_count": 211,
      "outputs": [
        {
          "output_type": "stream",
          "name": "stdout",
          "text": [
            "PASSWORD : PITOWRA\n",
            "KEYWORD : 3\n",
            "poriwat\n"
          ]
        }
      ]
    },
    {
      "cell_type": "markdown",
      "source": [
        "DOWLOAD plaintext"
      ],
      "metadata": {
        "id": "G5RfTfc5KZ0B"
      }
    },
    {
      "cell_type": "code",
      "source": [
        "files.download('plaintext.txt')"
      ],
      "metadata": {
        "id": "VYpY__doKaIu"
      },
      "execution_count": null,
      "outputs": []
    }
  ]
}