{
  "nbformat": 4,
  "nbformat_minor": 0,
  "metadata": {
    "colab": {
      "provenance": []
    },
    "kernelspec": {
      "name": "python3",
      "display_name": "Python 3"
    },
    "language_info": {
      "name": "python"
    }
  },
  "cells": [
    {
      "cell_type": "markdown",
      "source": [
        "Encryption Algorithm"
      ],
      "metadata": {
        "id": "AfsMVgqykPJC"
      }
    },
    {
      "cell_type": "code",
      "execution_count": 83,
      "metadata": {
        "id": "5giuK1sUVEcS"
      },
      "outputs": [],
      "source": [
        "import os\n",
        "from google.colab import files"
      ]
    },
    {
      "cell_type": "code",
      "source": [
        "#INPUT PASS & KEY\n",
        "#KEY IS 2 OR 3\n",
        "password = input(\"PASSWORD : \")\n",
        "keyword = input(\"KEYWORD : \")\n",
        "password = password.upper()\n",
        "\n",
        "i = 0\n",
        "n = 0\n",
        "m = 1\n",
        "k = 2\n",
        "result = []\n",
        "\n",
        "if int(keyword) == 2:\n",
        "  i = 0\n",
        "  for i in range(len(password)):\n",
        "    if n < len(password):\n",
        "      result.append(password[n])\n",
        "      n+=2\n",
        "  for j in range(len(password)):\n",
        "    if m < len(password):\n",
        "      result.append(password[m])\n",
        "      m+=2\n",
        "if int(keyword) == 3 :\n",
        "  i = 0\n",
        "  for i in range(len(password)):\n",
        "    if n < len(password) :\n",
        "      result.append(password[n])\n",
        "      n+=3\n",
        "  for i in range(len(password)):\n",
        "    if m < len(password):\n",
        "      result.append(password[m])\n",
        "      m+=3\n",
        "  for i in range(len(password)):\n",
        "    if k < len(password):\n",
        "      result.append(password[k])\n",
        "      k+=3\n",
        "\n",
        "\n",
        "# convert list to string\n",
        "\n",
        "converted_list = map(str, result)\n",
        "ciphertext = ''.join(converted_list)\n",
        "print(ciphertext)\n",
        "\n",
        "# creat file txt\n",
        "\n",
        "f = open(\"ciphertext.txt\", \"w\")\n",
        "f.write(\"CIPHERTEXT : \" + ciphertext)\n",
        "f.close()\n",
        "\n"
      ],
      "metadata": {
        "colab": {
          "base_uri": "https://localhost:8080/"
        },
        "id": "espNtjw9VHoV",
        "outputId": "bbb8c756-9ec9-4598-a975-430b4f6cb862"
      },
      "execution_count": 115,
      "outputs": [
        {
          "output_type": "stream",
          "name": "stdout",
          "text": [
            "PASSWORD : poriwat\n",
            "KEYWORD : 2\n",
            "PRWTOIA\n"
          ]
        }
      ]
    },
    {
      "cell_type": "markdown",
      "source": [
        "Dowload Ciphertext"
      ],
      "metadata": {
        "id": "42B4FD56jatm"
      }
    },
    {
      "cell_type": "code",
      "source": [
        "files.download('ciphertext.txt')"
      ],
      "metadata": {
        "id": "9Aflw4v0VcrW",
        "colab": {
          "base_uri": "https://localhost:8080/",
          "height": 17
        },
        "outputId": "374a913d-8d96-4218-87b0-3fc0eefb464f"
      },
      "execution_count": 82,
      "outputs": [
        {
          "output_type": "display_data",
          "data": {
            "text/plain": [
              "<IPython.core.display.Javascript object>"
            ],
            "application/javascript": [
              "\n",
              "    async function download(id, filename, size) {\n",
              "      if (!google.colab.kernel.accessAllowed) {\n",
              "        return;\n",
              "      }\n",
              "      const div = document.createElement('div');\n",
              "      const label = document.createElement('label');\n",
              "      label.textContent = `Downloading \"${filename}\": `;\n",
              "      div.appendChild(label);\n",
              "      const progress = document.createElement('progress');\n",
              "      progress.max = size;\n",
              "      div.appendChild(progress);\n",
              "      document.body.appendChild(div);\n",
              "\n",
              "      const buffers = [];\n",
              "      let downloaded = 0;\n",
              "\n",
              "      const channel = await google.colab.kernel.comms.open(id);\n",
              "      // Send a message to notify the kernel that we're ready.\n",
              "      channel.send({})\n",
              "\n",
              "      for await (const message of channel.messages) {\n",
              "        // Send a message to notify the kernel that we're ready.\n",
              "        channel.send({})\n",
              "        if (message.buffers) {\n",
              "          for (const buffer of message.buffers) {\n",
              "            buffers.push(buffer);\n",
              "            downloaded += buffer.byteLength;\n",
              "            progress.value = downloaded;\n",
              "          }\n",
              "        }\n",
              "      }\n",
              "      const blob = new Blob(buffers, {type: 'application/binary'});\n",
              "      const a = document.createElement('a');\n",
              "      a.href = window.URL.createObjectURL(blob);\n",
              "      a.download = filename;\n",
              "      div.appendChild(a);\n",
              "      a.click();\n",
              "      div.remove();\n",
              "    }\n",
              "  "
            ]
          },
          "metadata": {}
        },
        {
          "output_type": "display_data",
          "data": {
            "text/plain": [
              "<IPython.core.display.Javascript object>"
            ],
            "application/javascript": [
              "download(\"download_75681d3c-23fc-4878-9056-956b0bb11654\", \"ciphertext.txt\", 20)"
            ]
          },
          "metadata": {}
        }
      ]
    }
  ]
}